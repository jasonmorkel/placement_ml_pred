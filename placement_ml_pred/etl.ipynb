{
 "cells": [
  {
   "cell_type": "code",
   "execution_count": 10,
   "source": [
    "import pandas as pd\r\n",
    "from sklearn.model_selection import train_test_split\r\n",
    "\r\n",
    "#Import data\r\n",
    "df_placement = pd.read_csv(\"placement_data.csv\")\r\n",
    "\r\n",
    "#Filter data\r\n",
    "df_filtered = df_placement[df_placement['status'] == 'Placed']\r\n",
    "\r\n",
    "#split the data\r\n",
    "y = df_filtered.salary\r\n",
    "x = df_filtered.drop('salary', axis=1)\r\n",
    "\r\n",
    "x_train, x_test, y_train, y_test = train_test_split(x,y,test_size=0.2)\r\n",
    "\r\n",
    "#save filtered data as csv\r\n",
    "x_train.to_csv(\"x_train\")\r\n",
    "y_train.to_csv(\"y_train\")"
   ],
   "outputs": [],
   "metadata": {}
  }
 ],
 "metadata": {
  "orig_nbformat": 4,
  "language_info": {
   "name": "python",
   "version": "3.9.7",
   "mimetype": "text/x-python",
   "codemirror_mode": {
    "name": "ipython",
    "version": 3
   },
   "pygments_lexer": "ipython3",
   "nbconvert_exporter": "python",
   "file_extension": ".py"
  },
  "kernelspec": {
   "name": "python3",
   "display_name": "Python 3.9.7 64-bit"
  },
  "interpreter": {
   "hash": "60f5decb5d5f75cee078769f31acc91db8399f71b0160f2efe6eadfe23786558"
  }
 },
 "nbformat": 4,
 "nbformat_minor": 2
}